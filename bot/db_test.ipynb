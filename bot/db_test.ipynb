{
 "cells": [
  {
   "cell_type": "code",
   "execution_count": 362,
   "metadata": {
    "Collapsed": "false"
   },
   "outputs": [],
   "source": [
    "import db_fetch as db_fetch\n",
    "import importlib\n",
    "importlib.reload(db_fetch)\n",
    "import sqlite3\n",
    "import pandas as pd"
   ]
  },
  {
   "cell_type": "markdown",
   "metadata": {
    "Collapsed": "false"
   },
   "source": [
    "## Look at the actual database itself"
   ]
  },
  {
   "cell_type": "code",
   "execution_count": 363,
   "metadata": {
    "Collapsed": "false"
   },
   "outputs": [
    {
     "name": "stdout",
     "output_type": "stream",
     "text": [
      "[('recipes',)]\n"
     ]
    }
   ],
   "source": [
    "sqlite_db = '../database/recipes_db.sqlite'\n",
    "conn = sqlite3.connect(sqlite_db)\n",
    "c = conn.cursor()\n",
    "c.execute(\"SELECT name FROM sqlite_master WHERE type='table';\")\n",
    "print(c.fetchall())"
   ]
  },
  {
   "cell_type": "code",
   "execution_count": 364,
   "metadata": {
    "Collapsed": "false"
   },
   "outputs": [
    {
     "data": {
      "text/html": [
       "<div>\n",
       "<style scoped>\n",
       "    .dataframe tbody tr th:only-of-type {\n",
       "        vertical-align: middle;\n",
       "    }\n",
       "\n",
       "    .dataframe tbody tr th {\n",
       "        vertical-align: top;\n",
       "    }\n",
       "\n",
       "    .dataframe thead th {\n",
       "        text-align: right;\n",
       "    }\n",
       "</style>\n",
       "<table border=\"1\" class=\"dataframe\">\n",
       "  <thead>\n",
       "    <tr style=\"text-align: right;\">\n",
       "      <th></th>\n",
       "      <th>dish</th>\n",
       "      <th>meta</th>\n",
       "      <th>url</th>\n",
       "      <th>pic</th>\n",
       "      <th>ingredients</th>\n",
       "      <th>quantities</th>\n",
       "      <th>times</th>\n",
       "      <th>tags</th>\n",
       "      <th>duration_seconds</th>\n",
       "    </tr>\n",
       "    <tr>\n",
       "      <th>index</th>\n",
       "      <th></th>\n",
       "      <th></th>\n",
       "      <th></th>\n",
       "      <th></th>\n",
       "      <th></th>\n",
       "      <th></th>\n",
       "      <th></th>\n",
       "      <th></th>\n",
       "      <th></th>\n",
       "    </tr>\n",
       "  </thead>\n",
       "  <tbody>\n",
       "    <tr>\n",
       "      <td>0</td>\n",
       "      <td>BUTTERNUT SQUASH RIGATONI</td>\n",
       "      <td>COMFORT MOB</td>\n",
       "      <td>http://www.mobkitchen.co.uk/recipes/butternut-...</td>\n",
       "      <td>https://static1.squarespace.com/static/57ded33...</td>\n",
       "      <td>400g Rigatoni\\n1 Butternut Squash\\n100g of Par...</td>\n",
       "      <td>Feeds: 4 People</td>\n",
       "      <td>Cooking Time (Includes Preparation Time): 1 Hour</td>\n",
       "      <td>comfort</td>\n",
       "      <td>3600.0</td>\n",
       "    </tr>\n",
       "    <tr>\n",
       "      <td>1</td>\n",
       "      <td>HASSELBACK BUTTERNUT SQUASH</td>\n",
       "      <td>VEGGIE MOB</td>\n",
       "      <td>http://www.mobkitchen.co.uk/recipes/hasselback...</td>\n",
       "      <td>https://static1.squarespace.com/static/57ded33...</td>\n",
       "      <td>2 Large Butternut Squash\\n1 Red Chilli\\n70g Fl...</td>\n",
       "      <td>Feeds: 4 People</td>\n",
       "      <td>Cooking Time (Includes Preparation Time): 55 M...</td>\n",
       "      <td>vegeterian</td>\n",
       "      <td>3300.0</td>\n",
       "    </tr>\n",
       "    <tr>\n",
       "      <td>2</td>\n",
       "      <td>MOB'S TARTIFLETTE</td>\n",
       "      <td>COMFORT MOB</td>\n",
       "      <td>http://www.mobkitchen.co.uk/recipes/mobs-tarti...</td>\n",
       "      <td>https://static1.squarespace.com/static/57ded33...</td>\n",
       "      <td>1kg Potatoes\\n2 Onions\\n2 Cloves of Garlic\\n16...</td>\n",
       "      <td>Feeds: 4 People</td>\n",
       "      <td>Cooking Time (Includes Preparation Time): 1 ho...</td>\n",
       "      <td>comfort</td>\n",
       "      <td>4500.0</td>\n",
       "    </tr>\n",
       "    <tr>\n",
       "      <td>3</td>\n",
       "      <td>ROASTED ROOT VEGETABLE CURRY</td>\n",
       "      <td>VEGAN MOB</td>\n",
       "      <td>http://www.mobkitchen.co.uk/recipes/roasted-ro...</td>\n",
       "      <td>https://static1.squarespace.com/static/57ded33...</td>\n",
       "      <td>500g Parsnips \\n500g Carrots  \\n2 Sweet Potato...</td>\n",
       "      <td>Feeds: 4 People</td>\n",
       "      <td>Cooking time (Includes Preparation Time): 55 m...</td>\n",
       "      <td>vegan</td>\n",
       "      <td>3300.0</td>\n",
       "    </tr>\n",
       "    <tr>\n",
       "      <td>4</td>\n",
       "      <td>MOB'S BUFFALO WINGS</td>\n",
       "      <td>FAKEAWAY MOB</td>\n",
       "      <td>http://www.mobkitchen.co.uk/recipes/buffalo-wings</td>\n",
       "      <td>https://static1.squarespace.com/static/57ded33...</td>\n",
       "      <td>1 kg Chicken Wings\\n1 Tbsp of Baking Powder\\n3...</td>\n",
       "      <td>Feeds: 4 People</td>\n",
       "      <td>Cooking Time (Includes Preparation Time): 50 M...</td>\n",
       "      <td></td>\n",
       "      <td>3000.0</td>\n",
       "    </tr>\n",
       "    <tr>\n",
       "      <td>...</td>\n",
       "      <td>...</td>\n",
       "      <td>...</td>\n",
       "      <td>...</td>\n",
       "      <td>...</td>\n",
       "      <td>...</td>\n",
       "      <td>...</td>\n",
       "      <td>...</td>\n",
       "      <td>...</td>\n",
       "      <td>...</td>\n",
       "    </tr>\n",
       "    <tr>\n",
       "      <td>409</td>\n",
       "      <td>KATY'S GUACAMOLE COURGETTI</td>\n",
       "      <td>VEGAN MOB</td>\n",
       "      <td>http://www.mobkitchen.co.uk/recipes/katys-guac...</td>\n",
       "      <td>https://static1.squarespace.com/static/57ded33...</td>\n",
       "      <td>3 Avocados - £3.00\\nRed Chillies - £0.60\\n2 Pa...</td>\n",
       "      <td>FEEDS: 4 PEOPLE</td>\n",
       "      <td>COOKING TIME (INCLUDES PREPARATION TIME): 35 M...</td>\n",
       "      <td>vegan</td>\n",
       "      <td>2100.0</td>\n",
       "    </tr>\n",
       "    <tr>\n",
       "      <td>410</td>\n",
       "      <td>FETA &amp; OLIVE STUFFED ROAST PEPPERS</td>\n",
       "      <td>VEGGIE MOB</td>\n",
       "      <td>http://www.mobkitchen.co.uk/recipes/feta-olive...</td>\n",
       "      <td>https://static1.squarespace.com/static/57ded33...</td>\n",
       "      <td>2 Bags of Cherry Tomatoes - £1.59\\n1 Red Chill...</td>\n",
       "      <td>FEEDS: 4 PEOPLE</td>\n",
       "      <td>COOKING TIME (INCLUDES PREPARATION TIME): 1 HO...</td>\n",
       "      <td>vegeterian</td>\n",
       "      <td>4200.0</td>\n",
       "    </tr>\n",
       "    <tr>\n",
       "      <td>411</td>\n",
       "      <td>COURGETTE PARMAGIANA</td>\n",
       "      <td>COMFORT MOB</td>\n",
       "      <td>http://www.mobkitchen.co.uk/recipes/courgette-...</td>\n",
       "      <td>https://static1.squarespace.com/static/57ded33...</td>\n",
       "      <td>3 x 400 Gram Tins of Chopped Tomatoes - £1.20\\...</td>\n",
       "      <td>FEEDS: 4 PEOPLE</td>\n",
       "      <td>COOKING TIME (INCLUDES PREPARATION TIME): 1 HOUR</td>\n",
       "      <td>comfort</td>\n",
       "      <td>3600.0</td>\n",
       "    </tr>\n",
       "    <tr>\n",
       "      <td>412</td>\n",
       "      <td>STICKY SESAME &amp; GINGER TOFU WITH PAK CHOI</td>\n",
       "      <td>VEGAN MOB</td>\n",
       "      <td>http://www.mobkitchen.co.uk/recipes/sticky-ses...</td>\n",
       "      <td>https://static1.squarespace.com/static/57ded33...</td>\n",
       "      <td>1 Red Chilli - £0.60\\n4 Spring Onions - £0.49\\...</td>\n",
       "      <td>FEEDS: 4 PEOPLE</td>\n",
       "      <td>COOKING TIME (INCLUDES PREPARATION TIME): 30 M...</td>\n",
       "      <td>vegan</td>\n",
       "      <td>1800.0</td>\n",
       "    </tr>\n",
       "    <tr>\n",
       "      <td>413</td>\n",
       "      <td>SPINACH, RICOTTA &amp; BACON FRITTATA</td>\n",
       "      <td>BRUNCH MOB</td>\n",
       "      <td>http://www.mobkitchen.co.uk/recipes/spinach-ri...</td>\n",
       "      <td>https://static1.squarespace.com/static/57ded33...</td>\n",
       "      <td>1 Loaf of Sourdough - £1.50\\n1 Pint of Whole M...</td>\n",
       "      <td>FEEDS: 4 PEOPLE</td>\n",
       "      <td>COOKING TIME (INCLUDES PREPARATION TIME): 35 M...</td>\n",
       "      <td></td>\n",
       "      <td>2100.0</td>\n",
       "    </tr>\n",
       "  </tbody>\n",
       "</table>\n",
       "<p>413 rows × 9 columns</p>\n",
       "</div>"
      ],
      "text/plain": [
       "                                            dish          meta  \\\n",
       "index                                                            \n",
       "0                      BUTTERNUT SQUASH RIGATONI   COMFORT MOB   \n",
       "1                    HASSELBACK BUTTERNUT SQUASH    VEGGIE MOB   \n",
       "2                              MOB'S TARTIFLETTE   COMFORT MOB   \n",
       "3                   ROASTED ROOT VEGETABLE CURRY     VEGAN MOB   \n",
       "4                            MOB'S BUFFALO WINGS  FAKEAWAY MOB   \n",
       "...                                          ...           ...   \n",
       "409                   KATY'S GUACAMOLE COURGETTI     VEGAN MOB   \n",
       "410           FETA & OLIVE STUFFED ROAST PEPPERS    VEGGIE MOB   \n",
       "411                         COURGETTE PARMAGIANA   COMFORT MOB   \n",
       "412    STICKY SESAME & GINGER TOFU WITH PAK CHOI     VEGAN MOB   \n",
       "413            SPINACH, RICOTTA & BACON FRITTATA    BRUNCH MOB   \n",
       "\n",
       "                                                     url  \\\n",
       "index                                                      \n",
       "0      http://www.mobkitchen.co.uk/recipes/butternut-...   \n",
       "1      http://www.mobkitchen.co.uk/recipes/hasselback...   \n",
       "2      http://www.mobkitchen.co.uk/recipes/mobs-tarti...   \n",
       "3      http://www.mobkitchen.co.uk/recipes/roasted-ro...   \n",
       "4      http://www.mobkitchen.co.uk/recipes/buffalo-wings   \n",
       "...                                                  ...   \n",
       "409    http://www.mobkitchen.co.uk/recipes/katys-guac...   \n",
       "410    http://www.mobkitchen.co.uk/recipes/feta-olive...   \n",
       "411    http://www.mobkitchen.co.uk/recipes/courgette-...   \n",
       "412    http://www.mobkitchen.co.uk/recipes/sticky-ses...   \n",
       "413    http://www.mobkitchen.co.uk/recipes/spinach-ri...   \n",
       "\n",
       "                                                     pic  \\\n",
       "index                                                      \n",
       "0      https://static1.squarespace.com/static/57ded33...   \n",
       "1      https://static1.squarespace.com/static/57ded33...   \n",
       "2      https://static1.squarespace.com/static/57ded33...   \n",
       "3      https://static1.squarespace.com/static/57ded33...   \n",
       "4      https://static1.squarespace.com/static/57ded33...   \n",
       "...                                                  ...   \n",
       "409    https://static1.squarespace.com/static/57ded33...   \n",
       "410    https://static1.squarespace.com/static/57ded33...   \n",
       "411    https://static1.squarespace.com/static/57ded33...   \n",
       "412    https://static1.squarespace.com/static/57ded33...   \n",
       "413    https://static1.squarespace.com/static/57ded33...   \n",
       "\n",
       "                                             ingredients       quantities  \\\n",
       "index                                                                       \n",
       "0      400g Rigatoni\\n1 Butternut Squash\\n100g of Par...  Feeds: 4 People   \n",
       "1      2 Large Butternut Squash\\n1 Red Chilli\\n70g Fl...  Feeds: 4 People   \n",
       "2      1kg Potatoes\\n2 Onions\\n2 Cloves of Garlic\\n16...  Feeds: 4 People   \n",
       "3      500g Parsnips \\n500g Carrots  \\n2 Sweet Potato...  Feeds: 4 People   \n",
       "4      1 kg Chicken Wings\\n1 Tbsp of Baking Powder\\n3...  Feeds: 4 People   \n",
       "...                                                  ...              ...   \n",
       "409    3 Avocados - £3.00\\nRed Chillies - £0.60\\n2 Pa...  FEEDS: 4 PEOPLE   \n",
       "410    2 Bags of Cherry Tomatoes - £1.59\\n1 Red Chill...  FEEDS: 4 PEOPLE   \n",
       "411    3 x 400 Gram Tins of Chopped Tomatoes - £1.20\\...  FEEDS: 4 PEOPLE   \n",
       "412    1 Red Chilli - £0.60\\n4 Spring Onions - £0.49\\...  FEEDS: 4 PEOPLE   \n",
       "413    1 Loaf of Sourdough - £1.50\\n1 Pint of Whole M...  FEEDS: 4 PEOPLE   \n",
       "\n",
       "                                                   times        tags  \\\n",
       "index                                                                  \n",
       "0       Cooking Time (Includes Preparation Time): 1 Hour     comfort   \n",
       "1      Cooking Time (Includes Preparation Time): 55 M...  vegeterian   \n",
       "2      Cooking Time (Includes Preparation Time): 1 ho...     comfort   \n",
       "3      Cooking time (Includes Preparation Time): 55 m...       vegan   \n",
       "4      Cooking Time (Includes Preparation Time): 50 M...               \n",
       "...                                                  ...         ...   \n",
       "409    COOKING TIME (INCLUDES PREPARATION TIME): 35 M...       vegan   \n",
       "410    COOKING TIME (INCLUDES PREPARATION TIME): 1 HO...  vegeterian   \n",
       "411     COOKING TIME (INCLUDES PREPARATION TIME): 1 HOUR     comfort   \n",
       "412    COOKING TIME (INCLUDES PREPARATION TIME): 30 M...       vegan   \n",
       "413    COOKING TIME (INCLUDES PREPARATION TIME): 35 M...               \n",
       "\n",
       "       duration_seconds  \n",
       "index                    \n",
       "0                3600.0  \n",
       "1                3300.0  \n",
       "2                4500.0  \n",
       "3                3300.0  \n",
       "4                3000.0  \n",
       "...                 ...  \n",
       "409              2100.0  \n",
       "410              4200.0  \n",
       "411              3600.0  \n",
       "412              1800.0  \n",
       "413              2100.0  \n",
       "\n",
       "[413 rows x 9 columns]"
      ]
     },
     "execution_count": 364,
     "metadata": {},
     "output_type": "execute_result"
    }
   ],
   "source": [
    "recipes = pd.read_sql('SELECT * FROM recipes ',\n",
    "                     con=conn,\n",
    "                     index_col='index')\n",
    "recipes"
   ]
  },
  {
   "cell_type": "markdown",
   "metadata": {
    "Collapsed": "false"
   },
   "source": [
    "## Test the search functionality"
   ]
  },
  {
   "cell_type": "code",
   "execution_count": 365,
   "metadata": {
    "Collapsed": "false"
   },
   "outputs": [
    {
     "data": {
      "text/plain": [
       "600.0"
      ]
     },
     "execution_count": 365,
     "metadata": {},
     "output_type": "execute_result"
    }
   ],
   "source": [
    "recipes.duration_seconds.min()"
   ]
  },
  {
   "cell_type": "code",
   "execution_count": 366,
   "metadata": {
    "Collapsed": "false"
   },
   "outputs": [],
   "source": [
    "importlib.reload(db_fetch)\n",
    "search_params = {'main': 'chicken',\n",
    "                 'dietary': 'False',\n",
    "                 'duration': 1200}\n",
    "db = db_fetch.DB()\n",
    "db.set_params(search_params)"
   ]
  },
  {
   "cell_type": "code",
   "execution_count": 367,
   "metadata": {
    "Collapsed": "false"
   },
   "outputs": [],
   "source": [
    "recipe = db.get_next()"
   ]
  },
  {
   "cell_type": "code",
   "execution_count": 368,
   "metadata": {
    "Collapsed": "false"
   },
   "outputs": [
    {
     "data": {
      "text/plain": [
       "{'dish': \"MOB'S 4-WAY NOODLES\",\n",
       " 'meta': 'SPEEDY MOB',\n",
       " 'url': 'http://www.mobkitchen.co.uk/recipes/4-way-noodles',\n",
       " 'pic': 'https://static1.squarespace.com/static/57ded33ce6f2e1bd883c497d/598b0c80be42d699de0b3449/5d397e5f0ddf6d00019dd2dd/1566378876877/unnamed-1.jpg',\n",
       " 'ingredients': '1 Itsu Katsu Rice Noodles Pot \\n2 Chicken Thighs\\n2 Egg\\n2 Tbsp of Flour \\n2 Tbsp of Breadcrumbs\\nBunch of Coriander\\n2 Radishes \\nOlive Oil\\nSalt\\n1 Itsu Satay Rice Noodles Pot\\n1 Block of Halloumi (225g)\\nKnob of Ginger\\n1 Tbsp of Peanut Butter\\n1 Lime\\n100ml of Coconut Milk\\n2 Tbsp of Soy Sauce\\nOlive Oil\\n1 Itsu Chilli Miso Rice Noodles Pot\\n1 Red Pepper\\n2 Spring Onions\\n1 Red Onion\\n50g Mangetout\\n1 Knob of Ginger\\n1 Lemon\\n1 Red Chilli\\n2 Tbsp of Soy Sauce\\nOlive Oil\\n1 Itsu Chilli Chicken Rice Noodle Pot\\n2 Chicken Thighs\\n1 Tsp of Cinnamon \\n1 Tsp of Ground Coriander\\n1 Red Chilli\\nBunch of Coriander\\nBunch of Mint\\nOlive Oil\\nSalt\\nPepper',\n",
       " 'quantities': 'Feeds: 1 person ',\n",
       " 'times': 'Cooking Time (Includes Preparation Time): 15 Minutes',\n",
       " 'tags': 'quick',\n",
       " 'duration_seconds': 900.0,\n",
       " 'id': 68}"
      ]
     },
     "execution_count": 368,
     "metadata": {},
     "output_type": "execute_result"
    }
   ],
   "source": [
    "recipe"
   ]
  },
  {
   "cell_type": "code",
   "execution_count": 357,
   "metadata": {
    "Collapsed": "false"
   },
   "outputs": [
    {
     "name": "stdout",
     "output_type": "stream",
     "text": [
      "500g of Chicken Breast - £3.00\n",
      "1 Bunch of Spring Onions - £0.55\n",
      "400ml of Coconut Milk - £0.95\n",
      "Fish Sauce - £1.50\n",
      "400g of Egg Noodles - £1.13\n",
      "Smooth Peanut Butter - £0.70\n",
      "Soy Sauce - £0.65\n",
      "Salted Peanuts - £0.60\n",
      "Total Cost – £9.08- This covers absolutely everything. All we assume you have in your kitchen beforehand is SALT, PEPPER AND OLIVE OIL.\n"
     ]
    }
   ],
   "source": [
    "print(recipe['ingredients'])"
   ]
  },
  {
   "cell_type": "code",
   "execution_count": 358,
   "metadata": {
    "Collapsed": "false"
   },
   "outputs": [
    {
     "data": {
      "text/plain": [
       "[68, 84, 238]"
      ]
     },
     "execution_count": 358,
     "metadata": {},
     "output_type": "execute_result"
    }
   ],
   "source": [
    "db.history"
   ]
  },
  {
   "cell_type": "code",
   "execution_count": 359,
   "metadata": {
    "Collapsed": "false"
   },
   "outputs": [
    {
     "name": "stdout",
     "output_type": "stream",
     "text": [
      "http://www.mobkitchen.co.uk/recipes/spaghetti-tuna-puttanesca\n"
     ]
    }
   ],
   "source": [
    "print(url)"
   ]
  },
  {
   "cell_type": "code",
   "execution_count": 360,
   "metadata": {
    "Collapsed": "false"
   },
   "outputs": [
    {
     "name": "stdout",
     "output_type": "stream",
     "text": [
      "https://static1.squarespace.com/static/57ded33ce6f2e1bd883c497d/598b0c80be42d699de0b3449/5994b345a803bbad8780ae9c/1567430414104/Spaghetti+Tuna+Puttanesca+Image+1.jpg\n"
     ]
    }
   ],
   "source": [
    "print(pic)"
   ]
  },
  {
   "cell_type": "code",
   "execution_count": null,
   "metadata": {
    "Collapsed": "false"
   },
   "outputs": [],
   "source": []
  },
  {
   "cell_type": "code",
   "execution_count": 361,
   "metadata": {
    "Collapsed": "false"
   },
   "outputs": [],
   "source": [
    "class A():\n",
    "    def __init__(self):\n",
    "        print('Init A')\n",
    "        \n",
    "class B(A):\n",
    "    def __init__(self):\n",
    "        print('Init B')\n",
    "        super().__init__()"
   ]
  },
  {
   "cell_type": "code",
   "execution_count": 345,
   "metadata": {
    "Collapsed": "false"
   },
   "outputs": [
    {
     "name": "stdout",
     "output_type": "stream",
     "text": [
      "Init B\n",
      "Init A\n"
     ]
    }
   ],
   "source": [
    "b = B()"
   ]
  },
  {
   "cell_type": "code",
   "execution_count": null,
   "metadata": {
    "Collapsed": "false"
   },
   "outputs": [],
   "source": []
  }
 ],
 "metadata": {
  "kernelspec": {
   "display_name": "Python 3",
   "language": "python",
   "name": "python3"
  },
  "language_info": {
   "codemirror_mode": {
    "name": "ipython",
    "version": 3
   },
   "file_extension": ".py",
   "mimetype": "text/x-python",
   "name": "python",
   "nbconvert_exporter": "python",
   "pygments_lexer": "ipython3",
   "version": "3.7.4"
  }
 },
 "nbformat": 4,
 "nbformat_minor": 4
}
