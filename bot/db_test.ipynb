{
 "cells": [
  {
   "cell_type": "code",
   "execution_count": 2,
   "metadata": {
    "Collapsed": "false"
   },
   "outputs": [],
   "source": [
    "import db_fetch as db_fetch\n",
    "import importlib\n",
    "importlib.reload(db_fetch)\n",
    "import sqlite3\n",
    "import pandas as pd"
   ]
  },
  {
   "cell_type": "markdown",
   "metadata": {
    "Collapsed": "false"
   },
   "source": [
    "## Look at the actual database itself"
   ]
  },
  {
   "cell_type": "code",
   "execution_count": 3,
   "metadata": {
    "Collapsed": "false"
   },
   "outputs": [
    {
     "name": "stdout",
     "output_type": "stream",
     "text": [
      "[('recipes',)]\n"
     ]
    }
   ],
   "source": [
    "sqlite_db = '../database/recipes_db.sqlite'\n",
    "conn = sqlite3.connect(sqlite_db)\n",
    "c = conn.cursor()\n",
    "c.execute(\"SELECT name FROM sqlite_master WHERE type='table';\")\n",
    "print(c.fetchall())"
   ]
  },
  {
   "cell_type": "code",
   "execution_count": 76,
   "metadata": {
    "Collapsed": "false"
   },
   "outputs": [
    {
     "data": {
      "text/html": [
       "<div>\n",
       "<style scoped>\n",
       "    .dataframe tbody tr th:only-of-type {\n",
       "        vertical-align: middle;\n",
       "    }\n",
       "\n",
       "    .dataframe tbody tr th {\n",
       "        vertical-align: top;\n",
       "    }\n",
       "\n",
       "    .dataframe thead th {\n",
       "        text-align: right;\n",
       "    }\n",
       "</style>\n",
       "<table border=\"1\" class=\"dataframe\">\n",
       "  <thead>\n",
       "    <tr style=\"text-align: right;\">\n",
       "      <th></th>\n",
       "      <th>dish</th>\n",
       "      <th>meta</th>\n",
       "      <th>url</th>\n",
       "      <th>pic</th>\n",
       "      <th>ingredients</th>\n",
       "      <th>quantities</th>\n",
       "      <th>times</th>\n",
       "      <th>tags</th>\n",
       "      <th>duration_seconds</th>\n",
       "    </tr>\n",
       "    <tr>\n",
       "      <th>index</th>\n",
       "      <th></th>\n",
       "      <th></th>\n",
       "      <th></th>\n",
       "      <th></th>\n",
       "      <th></th>\n",
       "      <th></th>\n",
       "      <th></th>\n",
       "      <th></th>\n",
       "      <th></th>\n",
       "    </tr>\n",
       "  </thead>\n",
       "  <tbody>\n",
       "    <tr>\n",
       "      <td>3</td>\n",
       "      <td>ROASTED ROOT VEGETABLE CURRY</td>\n",
       "      <td>VEGAN MOB</td>\n",
       "      <td>http://www.mobkitchen.co.uk/recipes/roasted-ro...</td>\n",
       "      <td>https://static1.squarespace.com/static/57ded33...</td>\n",
       "      <td>500g Parsnips \\n500g Carrots  \\n2 Sweet Potato...</td>\n",
       "      <td>Feeds: 4 People</td>\n",
       "      <td>Cooking time (Includes Preparation Time): 55 m...</td>\n",
       "      <td>vegan</td>\n",
       "      <td>3300.0</td>\n",
       "    </tr>\n",
       "    <tr>\n",
       "      <td>11</td>\n",
       "      <td>MEATLESS SAUSAGE ROLLS</td>\n",
       "      <td>VEGAN MOB</td>\n",
       "      <td>http://www.mobkitchen.co.uk/recipes/meatless-s...</td>\n",
       "      <td>https://static1.squarespace.com/static/57ded33...</td>\n",
       "      <td>1 Pack of Meatless Farm Mince\\n6 Shallots\\n1 S...</td>\n",
       "      <td>Feeds: 4 People</td>\n",
       "      <td>Cooking Time (Includes Preparation Time): 45 M...</td>\n",
       "      <td>vegan</td>\n",
       "      <td>2700.0</td>\n",
       "    </tr>\n",
       "    <tr>\n",
       "      <td>18</td>\n",
       "      <td>SWEET N SOUR TOFU</td>\n",
       "      <td>VEGAN MOB</td>\n",
       "      <td>http://www.mobkitchen.co.uk/recipes/sweet-sour...</td>\n",
       "      <td>https://static1.squarespace.com/static/57ded33...</td>\n",
       "      <td>2 Packets of Naked Tofoo\\n1/2 a Pineapple\\n2 T...</td>\n",
       "      <td>Feeds: 4 People</td>\n",
       "      <td>Cooking Time (Includes Preparation Time): 30 M...</td>\n",
       "      <td>vegan</td>\n",
       "      <td>1800.0</td>\n",
       "    </tr>\n",
       "    <tr>\n",
       "      <td>24</td>\n",
       "      <td>SPICY LENTIL STEW</td>\n",
       "      <td>VEGAN MOB</td>\n",
       "      <td>http://www.mobkitchen.co.uk/recipes/spicy-lent...</td>\n",
       "      <td>https://static1.squarespace.com/static/57ded33...</td>\n",
       "      <td>1 Cauliflower\\n1 Tbsp of Turmeric\\n2 Tbsp of P...</td>\n",
       "      <td>Feeds: 4 People</td>\n",
       "      <td>Cooking Time (Includes Preparation Time): 1 Hour</td>\n",
       "      <td>vegan</td>\n",
       "      <td>3600.0</td>\n",
       "    </tr>\n",
       "    <tr>\n",
       "      <td>31</td>\n",
       "      <td>MOB'S MEATLESS NACHOS</td>\n",
       "      <td>VEGAN MOB</td>\n",
       "      <td>http://www.mobkitchen.co.uk/recipes/meatless-n...</td>\n",
       "      <td>https://static1.squarespace.com/static/57ded33...</td>\n",
       "      <td>400g of Meatless Farm Mince (1 Pack)\\n7 Tomato...</td>\n",
       "      <td>Feeds: 4 People</td>\n",
       "      <td>Cooking Time (Includes Preparation Time): 20 M...</td>\n",
       "      <td>vegan</td>\n",
       "      <td>1200.0</td>\n",
       "    </tr>\n",
       "    <tr>\n",
       "      <td>...</td>\n",
       "      <td>...</td>\n",
       "      <td>...</td>\n",
       "      <td>...</td>\n",
       "      <td>...</td>\n",
       "      <td>...</td>\n",
       "      <td>...</td>\n",
       "      <td>...</td>\n",
       "      <td>...</td>\n",
       "      <td>...</td>\n",
       "    </tr>\n",
       "    <tr>\n",
       "      <td>329</td>\n",
       "      <td>PEANUT BUTTER 10 MINUTE NOODLES</td>\n",
       "      <td>VEGAN MOB</td>\n",
       "      <td>http://www.mobkitchen.co.uk/recipes/peanut-but...</td>\n",
       "      <td>https://static1.squarespace.com/static/57ded33...</td>\n",
       "      <td>250g of Pak Choi - £1.30\\nClear Honey - £0.90\\...</td>\n",
       "      <td>Feeds: 4 People</td>\n",
       "      <td>Cooking Time (includes preparation time): 10 M...</td>\n",
       "      <td>vegan</td>\n",
       "      <td>600.0</td>\n",
       "    </tr>\n",
       "    <tr>\n",
       "      <td>331</td>\n",
       "      <td>CRISPY SESAME TOFU WITH STICKY SAUCE</td>\n",
       "      <td>VEGAN MOB</td>\n",
       "      <td>http://www.mobkitchen.co.uk/recipes/crispy-ses...</td>\n",
       "      <td>https://static1.squarespace.com/static/57ded33...</td>\n",
       "      <td>2 x 280g Pack of Tofoo - £4.00\\nKnob of ginger...</td>\n",
       "      <td>Feeds: 4 People</td>\n",
       "      <td>Cooking Time (Includes Preparation Time): 30 M...</td>\n",
       "      <td>vegan</td>\n",
       "      <td>1800.0</td>\n",
       "    </tr>\n",
       "    <tr>\n",
       "      <td>336</td>\n",
       "      <td>TOFU &amp; SWEET POTATO CURRY</td>\n",
       "      <td>VEGAN MOB</td>\n",
       "      <td>http://www.mobkitchen.co.uk/recipes/tofu-and-s...</td>\n",
       "      <td>https://static1.squarespace.com/static/57ded33...</td>\n",
       "      <td>2 x 280g Naked Tofoo - £4.00\\nGarden Peas - £0...</td>\n",
       "      <td>FEEDS: 4 PEOPLE</td>\n",
       "      <td>COOKING TIME (INCLUDES PREPARATION TIME): 40 M...</td>\n",
       "      <td>vegan</td>\n",
       "      <td>2400.0</td>\n",
       "    </tr>\n",
       "    <tr>\n",
       "      <td>409</td>\n",
       "      <td>KATY'S GUACAMOLE COURGETTI</td>\n",
       "      <td>VEGAN MOB</td>\n",
       "      <td>http://www.mobkitchen.co.uk/recipes/katys-guac...</td>\n",
       "      <td>https://static1.squarespace.com/static/57ded33...</td>\n",
       "      <td>3 Avocados - £3.00\\nRed Chillies - £0.60\\n2 Pa...</td>\n",
       "      <td>FEEDS: 4 PEOPLE</td>\n",
       "      <td>COOKING TIME (INCLUDES PREPARATION TIME): 35 M...</td>\n",
       "      <td>vegan</td>\n",
       "      <td>2100.0</td>\n",
       "    </tr>\n",
       "    <tr>\n",
       "      <td>412</td>\n",
       "      <td>STICKY SESAME &amp; GINGER TOFU WITH PAK CHOI</td>\n",
       "      <td>VEGAN MOB</td>\n",
       "      <td>http://www.mobkitchen.co.uk/recipes/sticky-ses...</td>\n",
       "      <td>https://static1.squarespace.com/static/57ded33...</td>\n",
       "      <td>1 Red Chilli - £0.60\\n4 Spring Onions - £0.49\\...</td>\n",
       "      <td>FEEDS: 4 PEOPLE</td>\n",
       "      <td>COOKING TIME (INCLUDES PREPARATION TIME): 30 M...</td>\n",
       "      <td>vegan</td>\n",
       "      <td>1800.0</td>\n",
       "    </tr>\n",
       "  </tbody>\n",
       "</table>\n",
       "<p>65 rows × 9 columns</p>\n",
       "</div>"
      ],
      "text/plain": [
       "                                            dish       meta  \\\n",
       "index                                                         \n",
       "3                   ROASTED ROOT VEGETABLE CURRY  VEGAN MOB   \n",
       "11                        MEATLESS SAUSAGE ROLLS  VEGAN MOB   \n",
       "18                             SWEET N SOUR TOFU  VEGAN MOB   \n",
       "24                             SPICY LENTIL STEW  VEGAN MOB   \n",
       "31                         MOB'S MEATLESS NACHOS  VEGAN MOB   \n",
       "...                                          ...        ...   \n",
       "329              PEANUT BUTTER 10 MINUTE NOODLES  VEGAN MOB   \n",
       "331         CRISPY SESAME TOFU WITH STICKY SAUCE  VEGAN MOB   \n",
       "336                    TOFU & SWEET POTATO CURRY  VEGAN MOB   \n",
       "409                   KATY'S GUACAMOLE COURGETTI  VEGAN MOB   \n",
       "412    STICKY SESAME & GINGER TOFU WITH PAK CHOI  VEGAN MOB   \n",
       "\n",
       "                                                     url  \\\n",
       "index                                                      \n",
       "3      http://www.mobkitchen.co.uk/recipes/roasted-ro...   \n",
       "11     http://www.mobkitchen.co.uk/recipes/meatless-s...   \n",
       "18     http://www.mobkitchen.co.uk/recipes/sweet-sour...   \n",
       "24     http://www.mobkitchen.co.uk/recipes/spicy-lent...   \n",
       "31     http://www.mobkitchen.co.uk/recipes/meatless-n...   \n",
       "...                                                  ...   \n",
       "329    http://www.mobkitchen.co.uk/recipes/peanut-but...   \n",
       "331    http://www.mobkitchen.co.uk/recipes/crispy-ses...   \n",
       "336    http://www.mobkitchen.co.uk/recipes/tofu-and-s...   \n",
       "409    http://www.mobkitchen.co.uk/recipes/katys-guac...   \n",
       "412    http://www.mobkitchen.co.uk/recipes/sticky-ses...   \n",
       "\n",
       "                                                     pic  \\\n",
       "index                                                      \n",
       "3      https://static1.squarespace.com/static/57ded33...   \n",
       "11     https://static1.squarespace.com/static/57ded33...   \n",
       "18     https://static1.squarespace.com/static/57ded33...   \n",
       "24     https://static1.squarespace.com/static/57ded33...   \n",
       "31     https://static1.squarespace.com/static/57ded33...   \n",
       "...                                                  ...   \n",
       "329    https://static1.squarespace.com/static/57ded33...   \n",
       "331    https://static1.squarespace.com/static/57ded33...   \n",
       "336    https://static1.squarespace.com/static/57ded33...   \n",
       "409    https://static1.squarespace.com/static/57ded33...   \n",
       "412    https://static1.squarespace.com/static/57ded33...   \n",
       "\n",
       "                                             ingredients       quantities  \\\n",
       "index                                                                       \n",
       "3      500g Parsnips \\n500g Carrots  \\n2 Sweet Potato...  Feeds: 4 People   \n",
       "11     1 Pack of Meatless Farm Mince\\n6 Shallots\\n1 S...  Feeds: 4 People   \n",
       "18     2 Packets of Naked Tofoo\\n1/2 a Pineapple\\n2 T...  Feeds: 4 People   \n",
       "24     1 Cauliflower\\n1 Tbsp of Turmeric\\n2 Tbsp of P...  Feeds: 4 People   \n",
       "31     400g of Meatless Farm Mince (1 Pack)\\n7 Tomato...  Feeds: 4 People   \n",
       "...                                                  ...              ...   \n",
       "329    250g of Pak Choi - £1.30\\nClear Honey - £0.90\\...  Feeds: 4 People   \n",
       "331    2 x 280g Pack of Tofoo - £4.00\\nKnob of ginger...  Feeds: 4 People   \n",
       "336    2 x 280g Naked Tofoo - £4.00\\nGarden Peas - £0...  FEEDS: 4 PEOPLE   \n",
       "409    3 Avocados - £3.00\\nRed Chillies - £0.60\\n2 Pa...  FEEDS: 4 PEOPLE   \n",
       "412    1 Red Chilli - £0.60\\n4 Spring Onions - £0.49\\...  FEEDS: 4 PEOPLE   \n",
       "\n",
       "                                                   times   tags  \\\n",
       "index                                                             \n",
       "3      Cooking time (Includes Preparation Time): 55 m...  vegan   \n",
       "11     Cooking Time (Includes Preparation Time): 45 M...  vegan   \n",
       "18     Cooking Time (Includes Preparation Time): 30 M...  vegan   \n",
       "24      Cooking Time (Includes Preparation Time): 1 Hour  vegan   \n",
       "31     Cooking Time (Includes Preparation Time): 20 M...  vegan   \n",
       "...                                                  ...    ...   \n",
       "329    Cooking Time (includes preparation time): 10 M...  vegan   \n",
       "331    Cooking Time (Includes Preparation Time): 30 M...  vegan   \n",
       "336    COOKING TIME (INCLUDES PREPARATION TIME): 40 M...  vegan   \n",
       "409    COOKING TIME (INCLUDES PREPARATION TIME): 35 M...  vegan   \n",
       "412    COOKING TIME (INCLUDES PREPARATION TIME): 30 M...  vegan   \n",
       "\n",
       "       duration_seconds  \n",
       "index                    \n",
       "3                3300.0  \n",
       "11               2700.0  \n",
       "18               1800.0  \n",
       "24               3600.0  \n",
       "31               1200.0  \n",
       "...                 ...  \n",
       "329               600.0  \n",
       "331              1800.0  \n",
       "336              2400.0  \n",
       "409              2100.0  \n",
       "412              1800.0  \n",
       "\n",
       "[65 rows x 9 columns]"
      ]
     },
     "execution_count": 76,
     "metadata": {},
     "output_type": "execute_result"
    }
   ],
   "source": [
    "recipes = pd.read_sql('SELECT * FROM recipes WHERE tags LIKE \"vegan\"',\n",
    "                     con=conn,\n",
    "                     index_col='index')\n",
    "recipes"
   ]
  },
  {
   "cell_type": "markdown",
   "metadata": {
    "Collapsed": "false"
   },
   "source": [
    "## Test the search functionality"
   ]
  },
  {
   "cell_type": "code",
   "execution_count": 98,
   "metadata": {
    "Collapsed": "false"
   },
   "outputs": [
    {
     "data": {
      "text/plain": [
       "600.0"
      ]
     },
     "execution_count": 98,
     "metadata": {},
     "output_type": "execute_result"
    }
   ],
   "source": [
    "recipes.duration_seconds.min()"
   ]
  },
  {
   "cell_type": "code",
   "execution_count": 115,
   "metadata": {
    "Collapsed": "false"
   },
   "outputs": [],
   "source": [
    "importlib.reload(db_fetch)\n",
    "search_params = {'main': 'chicken',\n",
    "                 'dietary': 'vegan',\n",
    "                 'time2cook': False}\n",
    "db_api = db_fetch.API()\n",
    "db_api.set_search_params(search_params)"
   ]
  },
  {
   "cell_type": "code",
   "execution_count": 116,
   "metadata": {
    "Collapsed": "false"
   },
   "outputs": [
    {
     "name": "stdout",
     "output_type": "stream",
     "text": [
      "main\n",
      "dietary\n"
     ]
    },
    {
     "data": {
      "text/plain": [
       "False"
      ]
     },
     "execution_count": 116,
     "metadata": {},
     "output_type": "execute_result"
    }
   ],
   "source": [
    "db_api.are_matches(search_params)"
   ]
  },
  {
   "cell_type": "code",
   "execution_count": 108,
   "metadata": {
    "Collapsed": "false"
   },
   "outputs": [
    {
     "name": "stdout",
     "output_type": "stream",
     "text": [
      "dietary\n"
     ]
    }
   ],
   "source": [
    "recipe = db_api.get_next_recipe()"
   ]
  },
  {
   "cell_type": "code",
   "execution_count": 109,
   "metadata": {
    "Collapsed": "false"
   },
   "outputs": [
    {
     "data": {
      "text/plain": [
       "{'dish': 'COCONUT CHILLI AUBERGINES',\n",
       " 'meta': 'VEGAN MOB',\n",
       " 'url': 'http://www.mobkitchen.co.uk/recipes/coconut-chilli-aubergines',\n",
       " 'pic': 'https://static1.squarespace.com/static/57ded33ce6f2e1bd883c497d/598b0c80be42d699de0b3449/5ba4d79b15fcc0c1f4548752/1567419275357/Z49A2665-2.jpg',\n",
       " 'ingredients': 'Cumin - £0.85\\nChilli Powder - £0.85\\n2 Aubergines - £1.00\\n1 Bunch of Coriander - £0.70 \\n1 Red Onion - £0.19\\n2 Chillies - £0.60\\nGarlic - £0.30\\n400g of Kidney Beans - £0.55\\nTomato Purée - £0.50\\n2 x 400g Tins of Tomatoes - £0.80\\n350g of Coconut Collaborative Yogurt - £2.50\\nDark Chocolate - £1.00\\nTotal Cost - £9.84',\n",
       " 'quantities': 'Feeds: 4 People',\n",
       " 'times': 'Cooking Time (Includes Preparation Time): 1 Hour',\n",
       " 'tags': 'vegan',\n",
       " 'duration_seconds': 3600.0,\n",
       " 'id': 198}"
      ]
     },
     "execution_count": 109,
     "metadata": {},
     "output_type": "execute_result"
    }
   ],
   "source": [
    "recipe"
   ]
  },
  {
   "cell_type": "code",
   "execution_count": 97,
   "metadata": {
    "Collapsed": "false"
   },
   "outputs": [
    {
     "ename": "TypeError",
     "evalue": "'NoneType' object is not subscriptable",
     "output_type": "error",
     "traceback": [
      "\u001b[0;31m---------------------------------------------------------------------------\u001b[0m",
      "\u001b[0;31mTypeError\u001b[0m                                 Traceback (most recent call last)",
      "\u001b[0;32m<ipython-input-97-e09375ed8e0d>\u001b[0m in \u001b[0;36m<module>\u001b[0;34m\u001b[0m\n\u001b[0;32m----> 1\u001b[0;31m \u001b[0mprint\u001b[0m\u001b[0;34m(\u001b[0m\u001b[0mrecipe\u001b[0m\u001b[0;34m[\u001b[0m\u001b[0;34m'ingredients'\u001b[0m\u001b[0;34m]\u001b[0m\u001b[0;34m)\u001b[0m\u001b[0;34m\u001b[0m\u001b[0;34m\u001b[0m\u001b[0m\n\u001b[0m",
      "\u001b[0;31mTypeError\u001b[0m: 'NoneType' object is not subscriptable"
     ]
    }
   ],
   "source": [
    "print(recipe['ingredients'])"
   ]
  },
  {
   "cell_type": "code",
   "execution_count": 16,
   "metadata": {
    "Collapsed": "false"
   },
   "outputs": [
    {
     "data": {
      "text/plain": [
       "[107]"
      ]
     },
     "execution_count": 16,
     "metadata": {},
     "output_type": "execute_result"
    }
   ],
   "source": [
    "db_api.history"
   ]
  },
  {
   "cell_type": "code",
   "execution_count": 18,
   "metadata": {
    "Collapsed": "false"
   },
   "outputs": [
    {
     "name": "stdout",
     "output_type": "stream",
     "text": [
      "http://www.mobkitchen.co.uk/recipes/meatless-chipotle-burger\n"
     ]
    }
   ],
   "source": [
    "print(recipe['url'])"
   ]
  },
  {
   "cell_type": "code",
   "execution_count": 19,
   "metadata": {
    "Collapsed": "false"
   },
   "outputs": [
    {
     "name": "stdout",
     "output_type": "stream",
     "text": [
      "https://static1.squarespace.com/static/57ded33ce6f2e1bd883c497d/598b0c80be42d699de0b3449/5ccc361a3786be0001b62b1c/1561034486649/78260BE3-E21E-456A-B138-A6F55121B8FC.JPG\n"
     ]
    }
   ],
   "source": [
    "print(recipe['pic'])"
   ]
  },
  {
   "cell_type": "code",
   "execution_count": null,
   "metadata": {
    "Collapsed": "false"
   },
   "outputs": [],
   "source": []
  }
 ],
 "metadata": {
  "kernelspec": {
   "display_name": "Python 3",
   "language": "python",
   "name": "python3"
  },
  "language_info": {
   "codemirror_mode": {
    "name": "ipython",
    "version": 3
   },
   "file_extension": ".py",
   "mimetype": "text/x-python",
   "name": "python",
   "nbconvert_exporter": "python",
   "pygments_lexer": "ipython3",
   "version": "3.7.4"
  }
 },
 "nbformat": 4,
 "nbformat_minor": 4
}
