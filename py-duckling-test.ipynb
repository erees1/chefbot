{
 "cells": [
  {
   "cell_type": "code",
   "execution_count": 4,
   "metadata": {
    "Collapsed": "false"
   },
   "outputs": [],
   "source": [
    "from duckling import DucklingWrapper"
   ]
  },
  {
   "cell_type": "code",
   "execution_count": 7,
   "metadata": {
    "Collapsed": "false"
   },
   "outputs": [
    {
     "name": "stdout",
     "output_type": "stream",
     "text": [
      "[{'dim': 'time', 'text': 'at 11:45am', 'start': 11, 'end': 21, 'value': {'value': '2020-04-29T11:45:00.000+01:00', 'grain': 'minute', 'others': [{'grain': 'minute', 'value': '2020-04-29T11:45:00.000+01:00'}, {'grain': 'minute', 'value': '2020-04-30T11:45:00.000+01:00'}, {'grain': 'minute', 'value': '2020-05-01T11:45:00.000+01:00'}]}}]\n"
     ]
    }
   ],
   "source": [
    "d = DucklingWrapper()\n",
    "print(d.parse_time(u'Let\\'s meet at 11:45am'))"
   ]
  },
  {
   "cell_type": "code",
   "execution_count": 8,
   "metadata": {
    "Collapsed": "false"
   },
   "outputs": [
    {
     "name": "stdout",
     "output_type": "stream",
     "text": [
      "[{'dim': 'temperature', 'text': '65 degrees', 'start': 55, 'end': 65, 'value': {'value': 65.0, 'unit': 'degree'}}, {'dim': 'temperature', 'text': 'thirty two celsius', 'start': 33, 'end': 51, 'value': {'value': 32.0, 'unit': 'celsius'}}]\n"
     ]
    }
   ],
   "source": [
    "print(d.parse_temperature(u'Let\\'s change the temperatur from thirty two celsius to 65 degrees'))"
   ]
  },
  {
   "cell_type": "code",
   "execution_count": 9,
   "metadata": {
    "Collapsed": "false"
   },
   "outputs": [
    {
     "name": "stdout",
     "output_type": "stream",
     "text": [
      "[{'dim': 'duration', 'text': '25 mins', 'start': 0, 'end': 7, 'value': {'value': 25.0, 'unit': 'minute', 'year': None, 'month': None, 'day': None, 'hour': None, 'minute': 25, 'second': None}}]\n"
     ]
    }
   ],
   "source": [
    "print(d.parse_duration('25 mins'))"
   ]
  },
  {
   "cell_type": "code",
   "execution_count": null,
   "metadata": {
    "Collapsed": "false"
   },
   "outputs": [],
   "source": []
  }
 ],
 "metadata": {
  "kernelspec": {
   "display_name": "Python 3",
   "language": "python",
   "name": "python3"
  },
  "language_info": {
   "codemirror_mode": {
    "name": "ipython",
    "version": 3
   },
   "file_extension": ".py",
   "mimetype": "text/x-python",
   "name": "python",
   "nbconvert_exporter": "python",
   "pygments_lexer": "ipython3",
   "version": "3.7.4"
  }
 },
 "nbformat": 4,
 "nbformat_minor": 4
}
