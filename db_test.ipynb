{
 "cells": [
  {
   "cell_type": "code",
   "execution_count": 1,
   "metadata": {
    "Collapsed": "false"
   },
   "outputs": [],
   "source": [
    "from bot import db_fetch\n",
    "import importlib\n",
    "importlib.reload(db_fetch)\n",
    "import sqlite3\n",
    "import pandas as pd"
   ]
  },
  {
   "cell_type": "markdown",
   "metadata": {
    "Collapsed": "false"
   },
   "source": [
    "## Look at the actual database itself"
   ]
  },
  {
   "cell_type": "code",
   "execution_count": 2,
   "metadata": {
    "Collapsed": "false"
   },
   "outputs": [
    {
     "name": "stdout",
     "output_type": "stream",
     "text": [
      "[('recipes',), ('ing_parts',)]\n"
     ]
    }
   ],
   "source": [
    "sqlite_db = './database/recipes_db.sqlite'\n",
    "conn = sqlite3.connect(sqlite_db)\n",
    "c = conn.cursor()\n",
    "c.execute(\"SELECT name FROM sqlite_master WHERE type='table';\")\n",
    "print(c.fetchall())"
   ]
  },
  {
   "cell_type": "code",
   "execution_count": 3,
   "metadata": {
    "Collapsed": "false"
   },
   "outputs": [],
   "source": [
    "recipes = pd.read_sql('SELECT * FROM recipes WHERE tags LIKE \"vegeterian\"',\n",
    "                     con=conn,\n",
    "                     index_col='index')\n",
    "recipes\n",
    "c.close()\n",
    "conn.close()"
   ]
  },
  {
   "cell_type": "markdown",
   "metadata": {
    "Collapsed": "false"
   },
   "source": [
    "## Test the search functionality"
   ]
  },
  {
   "cell_type": "code",
   "execution_count": 4,
   "metadata": {
    "Collapsed": "false"
   },
   "outputs": [
    {
     "data": {
      "text/plain": [
       "1200.0"
      ]
     },
     "execution_count": 4,
     "metadata": {},
     "output_type": "execute_result"
    }
   ],
   "source": [
    "recipes.duration_seconds.min()"
   ]
  },
  {
   "cell_type": "code",
   "execution_count": 5,
   "metadata": {
    "Collapsed": "false"
   },
   "outputs": [],
   "source": [
    "importlib.reload(db_fetch)\n",
    "search_params = {'main': ['chicken', 'rice'], 'dietary': None, 'time2cook': {'value': 4500}}\n",
    "db_api = db_fetch.API(recipe_db_loc=sqlite_db)\n",
    "db_api.set_search_params(search_params)"
   ]
  },
  {
   "cell_type": "code",
   "execution_count": 6,
   "metadata": {
    "Collapsed": "false"
   },
   "outputs": [
    {
     "name": "stdout",
     "output_type": "stream",
     "text": [
      "checking database for matches: {'main': ['chicken', 'rice'], 'dietary': None, 'time2cook': {'value': 4500}}\n"
     ]
    },
    {
     "data": {
      "text/plain": [
       "True"
      ]
     },
     "execution_count": 6,
     "metadata": {},
     "output_type": "execute_result"
    }
   ],
   "source": [
    "db_api.are_matches(search_params)"
   ]
  },
  {
   "cell_type": "code",
   "execution_count": 7,
   "metadata": {
    "Collapsed": "false"
   },
   "outputs": [
    {
     "data": {
      "text/plain": [
       "{'dish': \"MOB'S PAD THAI\",\n",
       " 'meta': 'ASIAN MOB',\n",
       " 'url': 'http://www.mobkitchen.co.uk/recipes/pad-thai',\n",
       " 'pic': 'https://static1.squarespace.com/static/57ded33ce6f2e1bd883c497d/598b0c80be42d699de0b3449/5d036a209e9d2a0001f7c787/1569314621318/9K8A9060.jpg',\n",
       " 'ingredients': '4 Tbsp of Sriracha\\n4 Tbsp of Soy Sauce\\n1.5 Tsp of Sugar\\n4 Eggs\\n200g of Flat Rice Noodles\\n3 Skinless, Boneless Chicken Thighs\\n2 Garlic Cloves\\n400g of Beansprouts\\n6 Spring Onions\\n4 Carrots\\n1 Red Chilli\\n2 Handfuls of Peanuts\\nOlive Oil\\n1 Lime',\n",
       " 'quantities': 'Feeds: 4 People',\n",
       " 'times': 'Cooking Time (Includes Preparation Time): 40 Minutes',\n",
       " 'tags': 'asian',\n",
       " 'duration_seconds': 2400.0,\n",
       " 'id': 90}"
      ]
     },
     "execution_count": 7,
     "metadata": {},
     "output_type": "execute_result"
    }
   ],
   "source": [
    "recipe = db_api.get_next_recipe()\n",
    "recipe"
   ]
  },
  {
   "cell_type": "code",
   "execution_count": 8,
   "metadata": {
    "Collapsed": "false"
   },
   "outputs": [
    {
     "data": {
      "text/plain": [
       "\"MOB'S PAD THAI\""
      ]
     },
     "execution_count": 8,
     "metadata": {},
     "output_type": "execute_result"
    }
   ],
   "source": [
    "recipe['dish']"
   ]
  },
  {
   "cell_type": "code",
   "execution_count": 9,
   "metadata": {
    "Collapsed": "false"
   },
   "outputs": [
    {
     "name": "stdout",
     "output_type": "stream",
     "text": [
      "4 Tbsp of Sriracha\n",
      "4 Tbsp of Soy Sauce\n",
      "1.5 Tsp of Sugar\n",
      "4 Eggs\n",
      "200g of Flat Rice Noodles\n",
      "3 Skinless, Boneless Chicken Thighs\n",
      "2 Garlic Cloves\n",
      "400g of Beansprouts\n",
      "6 Spring Onions\n",
      "4 Carrots\n",
      "1 Red Chilli\n",
      "2 Handfuls of Peanuts\n",
      "Olive Oil\n",
      "1 Lime\n"
     ]
    }
   ],
   "source": [
    "print(recipe['ingredients'])"
   ]
  },
  {
   "cell_type": "code",
   "execution_count": 16,
   "metadata": {
    "Collapsed": "false"
   },
   "outputs": [
    {
     "data": {
      "text/plain": [
       "[107]"
      ]
     },
     "execution_count": 16,
     "metadata": {},
     "output_type": "execute_result"
    }
   ],
   "source": [
    "db_api.history"
   ]
  },
  {
   "cell_type": "code",
   "execution_count": 18,
   "metadata": {
    "Collapsed": "false"
   },
   "outputs": [
    {
     "name": "stdout",
     "output_type": "stream",
     "text": [
      "http://www.mobkitchen.co.uk/recipes/meatless-chipotle-burger\n"
     ]
    }
   ],
   "source": [
    "print(recipe['url'])"
   ]
  },
  {
   "cell_type": "code",
   "execution_count": 19,
   "metadata": {
    "Collapsed": "false"
   },
   "outputs": [
    {
     "name": "stdout",
     "output_type": "stream",
     "text": [
      "https://static1.squarespace.com/static/57ded33ce6f2e1bd883c497d/598b0c80be42d699de0b3449/5ccc361a3786be0001b62b1c/1561034486649/78260BE3-E21E-456A-B138-A6F55121B8FC.JPG\n"
     ]
    }
   ],
   "source": [
    "print(recipe['pic'])"
   ]
  },
  {
   "cell_type": "code",
   "execution_count": 41,
   "metadata": {
    "Collapsed": "false"
   },
   "outputs": [
    {
     "data": {
      "text/plain": [
       "'hello'"
      ]
     },
     "execution_count": 41,
     "metadata": {},
     "output_type": "execute_result"
    }
   ],
   "source": [
    "'OR'.join(['hello'])"
   ]
  },
  {
   "cell_type": "code",
   "execution_count": null,
   "metadata": {
    "Collapsed": "false"
   },
   "outputs": [],
   "source": []
  }
 ],
 "metadata": {
  "kernelspec": {
   "display_name": "Python 3",
   "language": "python",
   "name": "python3"
  },
  "language_info": {
   "codemirror_mode": {
    "name": "ipython",
    "version": 3
   },
   "file_extension": ".py",
   "mimetype": "text/x-python",
   "name": "python",
   "nbconvert_exporter": "python",
   "pygments_lexer": "ipython3",
   "version": "3.7.4"
  }
 },
 "nbformat": 4,
 "nbformat_minor": 4
}
