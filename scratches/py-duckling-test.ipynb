{
 "cells": [
  {
   "cell_type": "code",
   "execution_count": 1,
   "metadata": {
    "Collapsed": "false"
   },
   "outputs": [],
   "source": [
    "from duckling import DucklingWrapper"
   ]
  },
  {
   "cell_type": "code",
   "execution_count": 2,
   "metadata": {
    "Collapsed": "false"
   },
   "outputs": [
    {
     "name": "stdout",
     "output_type": "stream",
     "text": [
      "[{'dim': 'time', 'text': 'at 11:45am', 'start': 11, 'end': 21, 'value': {'value': '2020-05-01T11:45:00.000+01:00', 'grain': 'minute', 'others': [{'grain': 'minute', 'value': '2020-05-01T11:45:00.000+01:00'}, {'grain': 'minute', 'value': '2020-05-02T11:45:00.000+01:00'}, {'grain': 'minute', 'value': '2020-05-03T11:45:00.000+01:00'}]}}]\n"
     ]
    }
   ],
   "source": [
    "d = DucklingWrapper()\n",
    "print(d.parse_time(u'Let\\'s meet at 11:45am'))"
   ]
  },
  {
   "cell_type": "code",
   "execution_count": 3,
   "metadata": {
    "Collapsed": "false"
   },
   "outputs": [
    {
     "name": "stdout",
     "output_type": "stream",
     "text": [
      "[{'dim': 'temperature', 'text': '65 degrees', 'start': 55, 'end': 65, 'value': {'value': 65.0, 'unit': 'degree'}}, {'dim': 'temperature', 'text': 'thirty two celsius', 'start': 33, 'end': 51, 'value': {'value': 32.0, 'unit': 'celsius'}}]\n"
     ]
    }
   ],
   "source": [
    "print(d.parse_temperature(u'Let\\'s change the temperatur from thirty two celsius to 65 degrees'))"
   ]
  },
  {
   "cell_type": "code",
   "execution_count": 4,
   "metadata": {
    "Collapsed": "false"
   },
   "outputs": [
    {
     "name": "stdout",
     "output_type": "stream",
     "text": [
      "[{'dim': 'duration', 'text': '25 mins', 'start': 0, 'end': 7, 'value': {'value': 25.0, 'unit': 'minute', 'year': None, 'month': None, 'day': None, 'hour': None, 'minute': 25, 'second': None}}]\n"
     ]
    }
   ],
   "source": [
    "print(d.parse_duration('25 mins'))"
   ]
  },
  {
   "cell_type": "code",
   "execution_count": 1,
   "metadata": {
    "Collapsed": "false"
   },
   "outputs": [
    {
     "name": "stdout",
     "output_type": "stream",
     "text": [
      "Collecting wit\n",
      "  Downloading wit-5.1.0.tar.gz (2.8 kB)\n",
      "Requirement already satisfied: prompt_toolkit in /Users/edwardrees/opt/miniconda3/lib/python3.7/site-packages (from wit) (2.0.10)\n",
      "Requirement already satisfied: requests>=0.8.8 in /Users/edwardrees/opt/miniconda3/lib/python3.7/site-packages (from wit) (2.22.0)\n",
      "Requirement already satisfied: wcwidth in /Users/edwardrees/opt/miniconda3/lib/python3.7/site-packages (from prompt_toolkit->wit) (0.1.7)\n",
      "Requirement already satisfied: six>=1.9.0 in /Users/edwardrees/opt/miniconda3/lib/python3.7/site-packages (from prompt_toolkit->wit) (1.12.0)\n",
      "Requirement already satisfied: urllib3!=1.25.0,!=1.25.1,<1.26,>=1.21.1 in /Users/edwardrees/opt/miniconda3/lib/python3.7/site-packages (from requests>=0.8.8->wit) (1.24.2)\n",
      "Requirement already satisfied: certifi>=2017.4.17 in /Users/edwardrees/opt/miniconda3/lib/python3.7/site-packages (from requests>=0.8.8->wit) (2019.11.28)\n",
      "Requirement already satisfied: chardet<3.1.0,>=3.0.2 in /Users/edwardrees/opt/miniconda3/lib/python3.7/site-packages (from requests>=0.8.8->wit) (3.0.4)\n",
      "Requirement already satisfied: idna<2.9,>=2.5 in /Users/edwardrees/opt/miniconda3/lib/python3.7/site-packages (from requests>=0.8.8->wit) (2.8)\n",
      "Building wheels for collected packages: wit\n",
      "  Building wheel for wit (setup.py) ... \u001b[?25ldone\n",
      "\u001b[?25h  Created wheel for wit: filename=wit-5.1.0-py3-none-any.whl size=2980 sha256=fe7867fa71521848b407fd5a6d2f28855dcd15f96cf118b2a776f42c38de1fb4\n",
      "  Stored in directory: /Users/edwardrees/Library/Caches/pip/wheels/ae/75/ef/e6a39fa481acf476543c77233b7568725971a594766aa3ed70\n",
      "Successfully built wit\n",
      "Installing collected packages: wit\n",
      "Successfully installed wit-5.1.0\n"
     ]
    }
   ],
   "source": [
    "!pip install wit"
   ]
  },
  {
   "cell_type": "code",
   "execution_count": 4,
   "metadata": {
    "Collapsed": "false"
   },
   "outputs": [],
   "source": [
    "from wit import wit"
   ]
  },
  {
   "cell_type": "code",
   "execution_count": 5,
   "metadata": {
    "Collapsed": "false"
   },
   "outputs": [
    {
     "ename": "AttributeError",
     "evalue": "module 'wit.wit' has no attribute 'init'",
     "output_type": "error",
     "traceback": [
      "\u001b[0;31m---------------------------------------------------------------------------\u001b[0m",
      "\u001b[0;31mAttributeError\u001b[0m                            Traceback (most recent call last)",
      "\u001b[0;32m<ipython-input-5-2e0b29e4b682>\u001b[0m in \u001b[0;36m<module>\u001b[0;34m\u001b[0m\n\u001b[0;32m----> 1\u001b[0;31m \u001b[0mwit\u001b[0m\u001b[0;34m.\u001b[0m\u001b[0minit\u001b[0m\u001b[0;34m(\u001b[0m\u001b[0;34m)\u001b[0m\u001b[0;34m\u001b[0m\u001b[0;34m\u001b[0m\u001b[0m\n\u001b[0m\u001b[1;32m      2\u001b[0m \u001b[0;34m\u001b[0m\u001b[0m\n\u001b[1;32m      3\u001b[0m \u001b[0mresp\u001b[0m \u001b[0;34m=\u001b[0m \u001b[0mwit\u001b[0m\u001b[0;34m.\u001b[0m\u001b[0mtext_query\u001b[0m\u001b[0;34m(\u001b[0m\u001b[0;34m'45 minutes'\u001b[0m\u001b[0;34m,\u001b[0m \u001b[0;34m'MY_WIT_TOKEN'\u001b[0m\u001b[0;34m)\u001b[0m\u001b[0;34m\u001b[0m\u001b[0;34m\u001b[0m\u001b[0m\n\u001b[1;32m      4\u001b[0m \u001b[0mprint\u001b[0m\u001b[0;34m(\u001b[0m\u001b[0;34m'Response: {}'\u001b[0m\u001b[0;34m.\u001b[0m\u001b[0mformat\u001b[0m\u001b[0;34m(\u001b[0m\u001b[0mresp\u001b[0m\u001b[0;34m)\u001b[0m\u001b[0;34m)\u001b[0m\u001b[0;34m\u001b[0m\u001b[0;34m\u001b[0m\u001b[0m\n\u001b[1;32m      5\u001b[0m \u001b[0;34m\u001b[0m\u001b[0m\n",
      "\u001b[0;31mAttributeError\u001b[0m: module 'wit.wit' has no attribute 'init'"
     ]
    }
   ],
   "source": [
    "wit.init()\n",
    "\n",
    "resp = wit.text_query('45 minutes', 'MY_WIT_TOKEN')\n",
    "print('Response: {}'.format(resp))\n",
    "\n",
    "wit.close()"
   ]
  }
 ],
 "metadata": {
  "kernelspec": {
   "display_name": "Python 3",
   "language": "python",
   "name": "python3"
  },
  "language_info": {
   "codemirror_mode": {
    "name": "ipython",
    "version": 3
   },
   "file_extension": ".py",
   "mimetype": "text/x-python",
   "name": "python",
   "nbconvert_exporter": "python",
   "pygments_lexer": "ipython3",
   "version": "3.7.4"
  }
 },
 "nbformat": 4,
 "nbformat_minor": 4
}
