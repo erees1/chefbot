{
 "cells": [
  {
   "cell_type": "code",
   "execution_count": 14,
   "metadata": {
    "Collapsed": "false"
   },
   "outputs": [],
   "source": [
    "import pandas as pd\n",
    "import sqlite3\n",
    "from nltk.corpus import stopwords\n",
    "from fuzzywuzzy import fuzz\n",
    "import joblib"
   ]
  },
  {
   "cell_type": "code",
   "execution_count": 2,
   "metadata": {
    "Collapsed": "false"
   },
   "outputs": [
    {
     "name": "stdout",
     "output_type": "stream",
     "text": [
      "[('recipes',)]\n"
     ]
    }
   ],
   "source": [
    "sqlite_db = '../database/recipes_db.sqlite'\n",
    "conn = sqlite3.connect(sqlite_db)\n",
    "c = conn.cursor()\n",
    "c.execute(\"SELECT name FROM sqlite_master WHERE type='table';\")\n",
    "print(c.fetchall())"
   ]
  },
  {
   "cell_type": "code",
   "execution_count": 3,
   "metadata": {
    "Collapsed": "false"
   },
   "outputs": [],
   "source": [
    "recipes = pd.read_sql('SELECT * FROM recipes', con=conn, index_col='index')\n",
    "c.close()\n",
    "conn.close()"
   ]
  },
  {
   "cell_type": "code",
   "execution_count": 4,
   "metadata": {
    "Collapsed": "false"
   },
   "outputs": [
    {
     "data": {
      "text/plain": [
       "index\n",
       "0      400g Rigatoni\\n1 Butternut Squash\\n100g of Par...\n",
       "1      2 Large Butternut Squash\\n1 Red Chilli\\n70g Fl...\n",
       "2      1kg Potatoes\\n2 Onions\\n2 Cloves of Garlic\\n16...\n",
       "3      500g Parsnips \\n500g Carrots  \\n2 Sweet Potato...\n",
       "4      1 kg Chicken Wings\\n1 Tbsp of Baking Powder\\n3...\n",
       "                             ...                        \n",
       "409    3 Avocados - £3.00\\nRed Chillies - £0.60\\n2 Pa...\n",
       "410    2 Bags of Cherry Tomatoes - £1.59\\n1 Red Chill...\n",
       "411    3 x 400 Gram Tins of Chopped Tomatoes - £1.20\\...\n",
       "412    1 Red Chilli - £0.60\\n4 Spring Onions - £0.49\\...\n",
       "413    1 Loaf of Sourdough - £1.50\\n1 Pint of Whole M...\n",
       "Name: ingredients, Length: 413, dtype: object"
      ]
     },
     "execution_count": 4,
     "metadata": {},
     "output_type": "execute_result"
    }
   ],
   "source": [
    "recipes.ingredients"
   ]
  },
  {
   "cell_type": "code",
   "execution_count": 5,
   "metadata": {
    "Collapsed": "false"
   },
   "outputs": [],
   "source": [
    "def remove_numbers(s):\n",
    "    result = ''.join([i for i in s if not i.isdigit()])\n",
    "    return result"
   ]
  },
  {
   "cell_type": "code",
   "execution_count": 6,
   "metadata": {
    "Collapsed": "false"
   },
   "outputs": [],
   "source": [
    "def remove_single(s):\n",
    "    result = ' '.join([w for w in s.split() if len(w) > 1])\n",
    "    return result"
   ]
  },
  {
   "cell_type": "code",
   "execution_count": 7,
   "metadata": {
    "Collapsed": "false"
   },
   "outputs": [],
   "source": [
    "stop = stopwords.words('english')\n",
    "other_stop = [\n",
    "    'kg',\n",
    "    'grams',\n",
    "    'cans',\n",
    "    'of',\n",
    "    'bags',\n",
    "    'tbsp',\n",
    "    'tsp',\n",
    "    'pinch',\n",
    "    'pint',\n",
    "    'pack',\n",
    "    'packs',\n",
    "    'fresh',\n",
    "    'large',\n",
    "    'small',\n",
    "    'gram',\n",
    "    'tins',\n",
    "    'knob',\n",
    "    'chopped',\n",
    "    'smoked',\n",
    "    'extra',\n",
    "    'very',\n",
    "    'lazy',\n",
    "    'crushed',\n",
    "    'ml',\n",
    "    'litre',\n",
    "    'bunch',\n",
    "    'dried',\n",
    "    'teaspoon',\n",
    "    'dried',\n",
    "    'tablespoon',\n",
    "    'tablespoons',\n",
    "    'bag',\n",
    "    'half',\n",
    "    'red',\n",
    "    'green',\n",
    "    'yellow',\n",
    "    'pink',\n",
    "    'orange',\n",
    "    'total cost  covers absolutely everything',\n",
    "    'tbsps'\n",
    "    \"mob's\",\n",
    "    'creamy',\n",
    "    'curshed',\n",
    "    'flat',\n",
    "    'jar',\n",
    "    'tin',\n",
    "    'pitted',\n",
    "    'bottle',\n",
    "    'seasoning',\n",
    "    'only',\n",
    "    \"n'\",\n",
    "    'toasted',\n",
    "    'giant',\n",
    "    'sliced',\n",
    "    'diced',\n",
    "    'minced',\n",
    "    'knob',\n",
    "    'knobs',\n",
    "    'method',\n",
    "    'frozen',\n",
    "    'skinless',\n",
    "    'boneless',\n",
    "    'loaf',\n",
    "    'grated',\n",
    "    'jar',\n",
    "    'nice',\n",
    "    'good',\n",
    "]\n",
    "stop.extend(other_stop)\n",
    "\n",
    "symbols = ['.', '£', '-', '!', '(', ')', ':', ',']"
   ]
  },
  {
   "cell_type": "code",
   "execution_count": 8,
   "metadata": {
    "Collapsed": "false"
   },
   "outputs": [],
   "source": [
    "def remove_stop(s, fuzzy=False):\n",
    "    words = s.split(' ')\n",
    "    if fuzzy:\n",
    "        out = []\n",
    "        for i in words:\n",
    "            include = True\n",
    "            for st in stop:\n",
    "                if fuzz.ratio(words, stop) > 50:\n",
    "                    include = False\n",
    "            if include:\n",
    "                out.append(i)\n",
    "        return ' '.join(out)\n",
    "    elif not fuzzy:\n",
    "        result = ' '.join([i for i in words if i not in stop])\n",
    "        return result\n",
    "\n",
    "\n",
    "def remove_symbol(s):\n",
    "    for i in symbols:\n",
    "        s = s.replace(i, '')\n",
    "    return s.strip()"
   ]
  },
  {
   "cell_type": "code",
   "execution_count": 9,
   "metadata": {
    "Collapsed": "false"
   },
   "outputs": [],
   "source": [
    "def extract_entities(s):\n",
    "    l_words = s.lower().split('\\n')\n",
    "\n",
    "    l_words = [remove_numbers(s) for s in l_words]\n",
    "    l_words = [remove_single(s) for s in l_words]\n",
    "    l_words = [remove_stop(s) for s in l_words]\n",
    "    l_words = [remove_symbol(s) for s in l_words]\n",
    "    l_words = [i for i in l_words if i != '']\n",
    "    return l_words"
   ]
  },
  {
   "cell_type": "code",
   "execution_count": 10,
   "metadata": {
    "Collapsed": "false"
   },
   "outputs": [],
   "source": [
    "ing_entities = recipes.ingredients.map(extract_entities)"
   ]
  },
  {
   "cell_type": "code",
   "execution_count": 16,
   "metadata": {
    "Collapsed": "false"
   },
   "outputs": [
    {
     "data": {
      "text/plain": [
       "['../database/ing_parts.z']"
      ]
     },
     "execution_count": 16,
     "metadata": {},
     "output_type": "execute_result"
    }
   ],
   "source": [
    "joblib.dump(ing_entities, '../database/ing_parts.z')"
   ]
  },
  {
   "cell_type": "code",
   "execution_count": 108,
   "metadata": {
    "Collapsed": "false"
   },
   "outputs": [],
   "source": [
    "ing_entities = recipes.ingredients.map(extract_entities).to_list()\n",
    "title_entities = recipes.dish.map(extract_entities).to_list()"
   ]
  },
  {
   "cell_type": "code",
   "execution_count": 109,
   "metadata": {
    "Collapsed": "false"
   },
   "outputs": [],
   "source": [
    "unpacked_ing_entities = []\n",
    "for i in ing_entities:\n",
    "    unpacked_ing_entities.extend(i)\n",
    "\n",
    "unpacked_title_entities = []\n",
    "for i in title_entities:\n",
    "    unpacked_title_entities.extend(i)\n",
    "\n",
    "unpacked_entities = unpacked_ing_entities #+ unpacked_title_entities"
   ]
  },
  {
   "cell_type": "code",
   "execution_count": 110,
   "metadata": {
    "Collapsed": "false"
   },
   "outputs": [],
   "source": [
    "unpacked_entities = list(set(unpacked_entities))"
   ]
  },
  {
   "cell_type": "code",
   "execution_count": 111,
   "metadata": {
    "Collapsed": "false"
   },
   "outputs": [],
   "source": [
    "# unpacked_title_entities"
   ]
  },
  {
   "cell_type": "code",
   "execution_count": 112,
   "metadata": {
    "Collapsed": "false"
   },
   "outputs": [
    {
     "data": {
      "text/plain": [
       "1033"
      ]
     },
     "execution_count": 112,
     "metadata": {},
     "output_type": "execute_result"
    }
   ],
   "source": [
    "len(unpacked_entities)"
   ]
  },
  {
   "cell_type": "code",
   "execution_count": 113,
   "metadata": {
    "Collapsed": "false"
   },
   "outputs": [],
   "source": [
    "def remove_duplicates(unpacked_entities):\n",
    "    defuzzed = []\n",
    "    for i in unpacked_entities:\n",
    "        include = True\n",
    "        for n in defuzzed:\n",
    "            if fuzz.ratio(i, n) > 50:\n",
    "                include = False\n",
    "                break\n",
    "        if include == True:\n",
    "            defuzzed.append(i)\n",
    "    return defuzzed\n",
    "\n",
    "\n",
    "def shorten(ent, max_words=4):\n",
    "    return [row for row in ent if len(row.split(' ')) < max_words]"
   ]
  },
  {
   "cell_type": "code",
   "execution_count": 114,
   "metadata": {
    "Collapsed": "false"
   },
   "outputs": [],
   "source": [
    "defuzzed = shorten(remove_duplicates(unpacked_entities))"
   ]
  },
  {
   "cell_type": "code",
   "execution_count": 115,
   "metadata": {
    "Collapsed": "false"
   },
   "outputs": [],
   "source": [
    "defuzzed = [i + '\\n' for i in defuzzed]"
   ]
  },
  {
   "cell_type": "code",
   "execution_count": 116,
   "metadata": {
    "Collapsed": "false"
   },
   "outputs": [],
   "source": [
    "file = '../bot/data/food.txt'\n",
    "with open(file, 'w') as f:\n",
    "    f.writelines(defuzzed)"
   ]
  },
  {
   "cell_type": "code",
   "execution_count": null,
   "metadata": {
    "Collapsed": "false"
   },
   "outputs": [],
   "source": []
  }
 ],
 "metadata": {
  "kernelspec": {
   "display_name": "Python 3",
   "language": "python",
   "name": "python3"
  },
  "language_info": {
   "codemirror_mode": {
    "name": "ipython",
    "version": 3
   },
   "file_extension": ".py",
   "mimetype": "text/x-python",
   "name": "python",
   "nbconvert_exporter": "python",
   "pygments_lexer": "ipython3",
   "version": "3.7.4"
  }
 },
 "nbformat": 4,
 "nbformat_minor": 4
}
