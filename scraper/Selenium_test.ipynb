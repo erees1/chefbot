{
 "cells": [
  {
   "cell_type": "code",
   "execution_count": 186,
   "metadata": {
    "Collapsed": "false"
   },
   "outputs": [],
   "source": [
    "from selenium import webdriver\n",
    "import pandas as pd\n",
    "from selenium.common.exceptions import NoSuchElementException as noelement"
   ]
  },
  {
   "cell_type": "code",
   "execution_count": 187,
   "metadata": {
    "Collapsed": "false"
   },
   "outputs": [],
   "source": [
    "items = pd.read_csv('mob_scrape.csv')\n",
    "url = 'http://www.mobkitchen.co.uk/recipes/sticky-chinese-pork-belly'"
   ]
  },
  {
   "cell_type": "code",
   "execution_count": 188,
   "metadata": {
    "Collapsed": "false"
   },
   "outputs": [
    {
     "data": {
      "text/plain": [
       "'http://www.mobkitchen.co.uk/recipes/sticky-chinese-pork-belly'"
      ]
     },
     "execution_count": 188,
     "metadata": {},
     "output_type": "execute_result"
    }
   ],
   "source": [
    "url"
   ]
  },
  {
   "cell_type": "code",
   "execution_count": 189,
   "metadata": {
    "Collapsed": "false"
   },
   "outputs": [],
   "source": [
    "driver = webdriver.Chrome(executable_path='./chromedriver')"
   ]
  },
  {
   "cell_type": "code",
   "execution_count": 190,
   "metadata": {
    "Collapsed": "false"
   },
   "outputs": [],
   "source": [
    "driver.get(url)\n",
    "blog_main = driver.find_element_by_class_name('BlogItem-main')"
   ]
  },
  {
   "cell_type": "code",
   "execution_count": 191,
   "metadata": {
    "Collapsed": "false"
   },
   "outputs": [
    {
     "name": "stdout",
     "output_type": "stream",
     "text": [
      "Dark Soy Sauce - £0.60\n",
      "Light Soy Sauce - £0.60\n",
      "4 Spring Onions - £0.55\n",
      "Knob of Ginger - £0.33\n",
      "Mirin - £1.70\n",
      "400g of Basmati Rice - £0.60\n",
      "700g of Pork Belly - £3.80\n",
      "Chinese 5 Spice - £0.85\n",
      "Brown Sugar - £0.69\n",
      "Total Cost - £9.72 - This covers absolutely everything. All we assume you have in your kitchen beforehand is SALT, PEPPER AND OLIVE OIL.\n",
      "\n"
     ]
    }
   ],
   "source": [
    "# Ingredients\n",
    "try:\n",
    "    ingredients = blog_main.find_elements_by_xpath(\"//ul\")\n",
    "    ingredients = [i.text for i in ingredients]\n",
    "    ingredients = \"\\n\".join(ingredients)\n",
    "except noelement:\n",
    "    ingredients = 'na'\n",
    "print(ingredients)"
   ]
  },
  {
   "cell_type": "code",
   "execution_count": 192,
   "metadata": {
    "Collapsed": "false"
   },
   "outputs": [],
   "source": [
    "def get_heading_with_text(driver, header, text):\n",
    "    out = driver.find_element_by_xpath(\n",
    "        f'//{header}[contains('\n",
    "        'translate(., '\n",
    "        '\"ABCDEFGHIJKLMNOPQRSTUVWXYZ\", \"abcdefghijklmnopqrstuvwxyz\"), '\n",
    "        f'\"{text}\")]'\n",
    "        ).text\n",
    "    return out"
   ]
  },
  {
   "cell_type": "code",
   "execution_count": 193,
   "metadata": {
    "Collapsed": "false"
   },
   "outputs": [
    {
     "data": {
      "text/plain": [
       "'Cooking Time (includes preparation time): 1 Hour 20 Minutes'"
      ]
     },
     "execution_count": 193,
     "metadata": {},
     "output_type": "execute_result"
    }
   ],
   "source": [
    "# Time\n",
    "try:\n",
    "    time = get_heading_with_text(blog_main, 'h2', 'time')\n",
    "except noelement:\n",
    "    try:\n",
    "        time = get_heading_with_text(blog_main, 'h3', 'time')\n",
    "    except noelement:\n",
    "        time = 'na'\n",
    "time"
   ]
  },
  {
   "cell_type": "code",
   "execution_count": 194,
   "metadata": {
    "Collapsed": "false"
   },
   "outputs": [
    {
     "data": {
      "text/plain": [
       "'Feeds: 4 People'"
      ]
     },
     "execution_count": 194,
     "metadata": {},
     "output_type": "execute_result"
    }
   ],
   "source": [
    "# Quanitity\n",
    "try:\n",
    "    quantity = get_heading_with_text(blog_main, 'h2', 'feeds:')\n",
    "except noelement:\n",
    "    try:\n",
    "        quantity = get_heading_with_text(blog_main, 'h3', 'feeds:')\n",
    "    except noelement:\n",
    "        quantity = 'na'\n",
    "quantity"
   ]
  },
  {
   "cell_type": "code",
   "execution_count": 195,
   "metadata": {
    "Collapsed": "false"
   },
   "outputs": [],
   "source": [
    "driver.close()"
   ]
  },
  {
   "cell_type": "code",
   "execution_count": 287,
   "metadata": {
    "Collapsed": "false"
   },
   "outputs": [],
   "source": [
    "import mob_scraper\n",
    "import importlib\n",
    "importlib.reload(mob_scraper);"
   ]
  },
  {
   "cell_type": "code",
   "execution_count": 289,
   "metadata": {
    "Collapsed": "false"
   },
   "outputs": [],
   "source": [
    "url = 'http://www.mobkitchen.co.uk/recipes/broccoli-saint-agur-soup-with-blue-cheese-croutons'"
   ]
  },
  {
   "cell_type": "code",
   "execution_count": 290,
   "metadata": {
    "Collapsed": "false"
   },
   "outputs": [
    {
     "name": "stdout",
     "output_type": "stream",
     "text": [
      "Butter - £1.60\n",
      "White Baguette - £0.45\n",
      "Vegetable Stock - £0.50\n",
      "1 Brown Onion - £0.16\n",
      "2 Potatoes - £0.66\n",
      "2 Leeks - £1.00\n",
      "1 Broccoli - £0.55\n",
      "200g of Saint Agur - £1.55\n",
      "Total Cost – £6.47 - This covers absolutely everything. All we assume you have in your kitchen beforehand is SALT, PEPPER AND OLIVE OIL.\n",
      "Cooking Time (includes preparation time): 50 Minutes\n",
      "Feeds: 4 People\n"
     ]
    }
   ],
   "source": [
    "ing, time, quant = mob_scraper.scrape_info_from_page_bs(url)\n",
    "print(ing)\n",
    "print(time)\n",
    "print(quant)"
   ]
  },
  {
   "cell_type": "code",
   "execution_count": 284,
   "metadata": {
    "Collapsed": "false"
   },
   "outputs": [
    {
     "data": {
      "text/plain": [
       "('Dark Soy Sauce - £0.60\\nLight Soy Sauce - £0.60\\n4 Spring Onions - £0.55\\nKnob of Ginger - £0.33\\nMirin - £1.70\\n400g of Basmati Rice - £0.60\\n700g of Pork Belly - £3.80\\nChinese 5 Spice - £0.85\\nBrown Sugar - £0.69\\nTotal Cost - £9.72 - This covers absolutely everything. All we assume you have in your kitchen beforehand is SALT, PEPPER AND OLIVE OIL.',\n",
       " 'Cooking Time (includes preparation time): 1 Hour 20 Minutes',\n",
       " 'Feeds: 4 People')"
      ]
     },
     "execution_count": 284,
     "metadata": {},
     "output_type": "execute_result"
    }
   ],
   "source": [
    "driver = webdriver.Chrome(executable_path='./chromedriver')\n",
    "driver.get(url)\n",
    "mob_scraper.scrape_info_from_page(driver, url)"
   ]
  },
  {
   "cell_type": "code",
   "execution_count": 272,
   "metadata": {
    "Collapsed": "false"
   },
   "outputs": [
    {
     "name": "stdout",
     "output_type": "stream",
     "text": [
      "Dark Soy Sauce - £0.60\n",
      "Light Soy Sauce - £0.60\n",
      "4 Spring Onions - £0.55\n",
      "Knob of Ginger - £0.33\n",
      "Mirin - £1.70\n",
      "400g of Basmati Rice - £0.60\n",
      "700g of Pork Belly - £3.80\n",
      "Chinese 5 Spice - £0.85\n",
      "Brown Sugar - £0.69\n",
      "Total Cost - £9.72 - This covers absolutely everything. All we assume you have in your kitchen beforehand is SALT, PEPPER AND OLIVE OIL.\n",
      "Cooking Time (includes preparation time): 1 Hour 20 Minutes\n",
      "None\n"
     ]
    }
   ],
   "source": []
  },
  {
   "cell_type": "code",
   "execution_count": 204,
   "metadata": {
    "Collapsed": "false"
   },
   "outputs": [],
   "source": [
    "r = requests.get(url)\n",
    "soup = BeautifulSoup(r.text, 'html.parser')\n",
    "blog_main = soup.find(class_='BlogItem-main')"
   ]
  },
  {
   "cell_type": "code",
   "execution_count": 233,
   "metadata": {
    "Collapsed": "false"
   },
   "outputs": [
    {
     "ename": "AttributeError",
     "evalue": "can't set attribute",
     "output_type": "error",
     "traceback": [
      "\u001b[0;31m---------------------------------------------------------------------------\u001b[0m",
      "\u001b[0;31mAttributeError\u001b[0m                            Traceback (most recent call last)",
      "\u001b[0;32m<ipython-input-233-8f1fbf5861e9>\u001b[0m in \u001b[0;36m<module>\u001b[0;34m\u001b[0m\n\u001b[0;32m----> 1\u001b[0;31m \u001b[0mblog_main\u001b[0m\u001b[0;34m.\u001b[0m\u001b[0mtext\u001b[0m \u001b[0;34m=\u001b[0m \u001b[0mblog_main\u001b[0m\u001b[0;34m.\u001b[0m\u001b[0mtext\u001b[0m\u001b[0;34m.\u001b[0m\u001b[0mlower\u001b[0m\u001b[0;34m(\u001b[0m\u001b[0;34m)\u001b[0m\u001b[0;34m\u001b[0m\u001b[0;34m\u001b[0m\u001b[0m\n\u001b[0m",
      "\u001b[0;31mAttributeError\u001b[0m: can't set attribute"
     ]
    }
   ],
   "source": [
    "blog_main.text = blog_main.text.lower()"
   ]
  },
  {
   "cell_type": "code",
   "execution_count": null,
   "metadata": {
    "Collapsed": "false"
   },
   "outputs": [],
   "source": []
  }
 ],
 "metadata": {
  "kernelspec": {
   "display_name": "Python 3",
   "language": "python",
   "name": "python3"
  },
  "language_info": {
   "codemirror_mode": {
    "name": "ipython",
    "version": 3
   },
   "file_extension": ".py",
   "mimetype": "text/x-python",
   "name": "python",
   "nbconvert_exporter": "python",
   "pygments_lexer": "ipython3",
   "version": "3.7.4"
  }
 },
 "nbformat": 4,
 "nbformat_minor": 4
}
